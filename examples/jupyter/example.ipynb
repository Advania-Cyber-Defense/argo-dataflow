{
 "cells": [
  {
   "cell_type": "code",
   "execution_count": null,
   "id": "ab657a0e",
   "metadata": {
    "pycharm": {
     "name": "#%%\n"
    }
   },
   "outputs": [],
   "source": [
    "from argo_dataflow import cron, pipeline, kafka, stan, http"
   ]
  },
  {
   "cell_type": "code",
   "execution_count": null,
   "id": "f7c22dc6",
   "metadata": {},
   "outputs": [],
   "source": [
    "namespace='argo-dataflow-system'"
   ]
  },
  {
   "cell_type": "code",
   "execution_count": null,
   "id": "2cfbe759",
   "metadata": {
    "pycharm": {
     "name": "#%%\n"
    }
   },
   "outputs": [],
   "source": [
    "pipeline(\"hello\").namespace(namespace).step(kafka(\"input-topic\").filter(\"main\", \"string(msg) contains 'capybara'\").kafka(\"output-topic\")).run()"
   ]
  }
 ],
 "metadata": {
  "kernelspec": {
   "display_name": "Python 3",
   "language": "python",
   "name": "python3"
  },
  "language_info": {
   "codemirror_mode": {
    "name": "ipython",
    "version": 3
   },
   "file_extension": ".py",
   "mimetype": "text/x-python",
   "name": "python",
   "nbconvert_exporter": "python",
   "pygments_lexer": "ipython3",
   "version": "3.9.5"
  }
 },
 "nbformat": 4,
 "nbformat_minor": 5
}